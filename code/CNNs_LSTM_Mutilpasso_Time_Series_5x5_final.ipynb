{
  "cells": [
    {
      "cell_type": "code",
      "execution_count": 1,
      "metadata": {
        "colab": {
          "base_uri": "https://localhost:8080/",
          "height": 424
        },
        "id": "ugZlNHVvhXdb",
        "outputId": "693b42c9-23df-494b-d6a2-6eda6c9fc9c8"
      },
      "outputs": [
        {
          "data": {
            "text/html": [
              "<div>\n",
              "<style scoped>\n",
              "    .dataframe tbody tr th:only-of-type {\n",
              "        vertical-align: middle;\n",
              "    }\n",
              "\n",
              "    .dataframe tbody tr th {\n",
              "        vertical-align: top;\n",
              "    }\n",
              "\n",
              "    .dataframe thead th {\n",
              "        text-align: right;\n",
              "    }\n",
              "</style>\n",
              "<table border=\"1\" class=\"dataframe\">\n",
              "  <thead>\n",
              "    <tr style=\"text-align: right;\">\n",
              "      <th></th>\n",
              "      <th>Close</th>\n",
              "    </tr>\n",
              "    <tr>\n",
              "      <th>Date</th>\n",
              "      <th></th>\n",
              "    </tr>\n",
              "  </thead>\n",
              "  <tbody>\n",
              "    <tr>\n",
              "      <th>2015-01-05</th>\n",
              "      <td>46.320000</td>\n",
              "    </tr>\n",
              "    <tr>\n",
              "      <th>2015-01-06</th>\n",
              "      <td>46.580002</td>\n",
              "    </tr>\n",
              "    <tr>\n",
              "      <th>2015-01-07</th>\n",
              "      <td>48.150002</td>\n",
              "    </tr>\n",
              "    <tr>\n",
              "      <th>2015-01-08</th>\n",
              "      <td>48.509998</td>\n",
              "    </tr>\n",
              "    <tr>\n",
              "      <th>2015-01-09</th>\n",
              "      <td>47.529999</td>\n",
              "    </tr>\n",
              "    <tr>\n",
              "      <th>...</th>\n",
              "      <td>...</td>\n",
              "    </tr>\n",
              "    <tr>\n",
              "      <th>2025-04-28</th>\n",
              "      <td>131.649994</td>\n",
              "    </tr>\n",
              "    <tr>\n",
              "      <th>2025-04-29</th>\n",
              "      <td>131.860001</td>\n",
              "    </tr>\n",
              "    <tr>\n",
              "      <th>2025-04-30</th>\n",
              "      <td>131.630005</td>\n",
              "    </tr>\n",
              "    <tr>\n",
              "      <th>2025-05-02</th>\n",
              "      <td>131.850006</td>\n",
              "    </tr>\n",
              "    <tr>\n",
              "      <th>2025-05-05</th>\n",
              "      <td>130.419998</td>\n",
              "    </tr>\n",
              "  </tbody>\n",
              "</table>\n",
              "<p>2542 rows × 1 columns</p>\n",
              "</div>"
            ],
            "text/plain": [
              "                 Close\n",
              "Date                  \n",
              "2015-01-05   46.320000\n",
              "2015-01-06   46.580002\n",
              "2015-01-07   48.150002\n",
              "2015-01-08   48.509998\n",
              "2015-01-09   47.529999\n",
              "...                ...\n",
              "2025-04-28  131.649994\n",
              "2025-04-29  131.860001\n",
              "2025-04-30  131.630005\n",
              "2025-05-02  131.850006\n",
              "2025-05-05  130.419998\n",
              "\n",
              "[2542 rows x 1 columns]"
            ]
          },
          "execution_count": 1,
          "metadata": {},
          "output_type": "execute_result"
        }
      ],
      "source": [
        "import pickle\n",
        "import pandas as pd\n",
        "import pickle\n",
        "caminho_arquivo = \"/Users/joao altarugio/Desktop/IC - Levada/DataGeral/bova11_teste.pkl\"\n",
        "with open(caminho_arquivo, \"rb\") as f:\n",
        "   df = pickle.load(f)\n",
        "df"
      ]
    },
    {
      "cell_type": "markdown",
      "metadata": {
        "id": "PvEb4BTIazai"
      },
      "source": [
        "#TF\n"
      ]
    },
    {
      "cell_type": "code",
      "execution_count": 2,
      "metadata": {
        "id": "g8ej9W0oa5OO"
      },
      "outputs": [],
      "source": [
        "import os\n",
        "import datetime\n",
        "\n",
        "import IPython\n",
        "import IPython.display\n",
        "import matplotlib as mpl\n",
        "import matplotlib.pyplot as plt\n",
        "import numpy as np\n",
        "import pandas as pd\n",
        "import seaborn as sns\n",
        "import tensorflow as tf\n",
        "\n",
        "mpl.rcParams['figure.figsize'] = (8, 6)\n",
        "mpl.rcParams['axes.grid'] = False"
      ]
    },
    {
      "cell_type": "markdown",
      "metadata": {
        "id": "6OBFkLmIgzCH"
      },
      "source": [
        "###Dividir os dados\n",
        "Você usará uma divisão (70%, 20%, 10%) para os conjuntos de treinamento, validação e teste. Observe que os dados não estão sendo embaralhados aleatoriamente antes da divisão. Isso por dois motivos:\n",
        "\n",
        "Garante que ainda é possível cortar os dados em janelas de amostras consecutivas.\n",
        "Garante que os resultados da validação/teste sejam mais realistas, sendo avaliados nos dados coletados após o treinamento do modelo."
      ]
    },
    {
      "cell_type": "code",
      "execution_count": 3,
      "metadata": {
        "id": "AGRXvGu2guAf"
      },
      "outputs": [],
      "source": [
        "column_indices = {name: i for i, name in enumerate(df.columns)}\n",
        "\n",
        "n = len(df)\n",
        "train_df = df[0:int(n*0.7)]\n",
        "val_df = df[int(n*0.7):int(n*0.9)]\n",
        "test_df = df[int(n*0.9):]\n",
        "\n",
        "num_features = df.shape[1]"
      ]
    },
    {
      "cell_type": "markdown",
      "metadata": {
        "id": "SrvEFrt5g1cY"
      },
      "source": [
        "###Normalize os dados\n",
        "É importante dimensionar recursos antes de treinar uma rede neural. A normalização é uma maneira comum de fazer essa escala: subtrair a média e dividir pelo desvio padrão de cada recurso.\n",
        "\n",
        "A média e o desvio padrão só devem ser calculados usando os dados de treinamento para que os modelos não tenham acesso aos valores nos conjuntos de validação e teste."
      ]
    },
    {
      "cell_type": "code",
      "execution_count": 4,
      "metadata": {
        "id": "Sag2uPobn8pZ"
      },
      "outputs": [],
      "source": [
        "from sklearn.preprocessing import RobustScaler\n",
        "\n",
        "scaler = RobustScaler()\n",
        "train_df = scaler.fit_transform(train_df)\n",
        "val_df = scaler.fit_transform(val_df)\n",
        "test_df = scaler.fit_transform(test_df)"
      ]
    },
    {
      "cell_type": "code",
      "execution_count": 5,
      "metadata": {
        "colab": {
          "base_uri": "https://localhost:8080/"
        },
        "id": "Ue4-KXatVAjx",
        "outputId": "74c8af9c-7246-4447-fc04-5be7b7751e79"
      },
      "outputs": [
        {
          "name": "stdout",
          "output_type": "stream",
          "text": [
            "Index(['Close'], dtype='object')\n"
          ]
        }
      ],
      "source": [
        "Colunas = print(df.columns)"
      ]
    },
    {
      "cell_type": "code",
      "execution_count": 6,
      "metadata": {
        "id": "zHbeHVwtqC1K"
      },
      "outputs": [],
      "source": [
        "train_df = pd.DataFrame(train_df, columns=['Close'])\n",
        "val_df = pd.DataFrame(val_df, columns=['Close'])\n",
        "test_df = pd.DataFrame(test_df, columns=['Close'])"
      ]
    },
    {
      "cell_type": "markdown",
      "metadata": {
        "id": "SUjqqg6gkJWv"
      },
      "source": [
        "Classe **WindowGenerator** . Esta classe pode:\n",
        "\n",
        "Manipule os índices e deslocamentos.\n",
        "Divida janelas de recursos em pares (features, labels) .\n",
        "Plote o conteúdo das janelas resultantes.\n",
        "Gere lotes dessas janelas com eficiência a partir dos dados de treinamento, avaliação e teste, usando tf.data.Dataset s."
      ]
    },
    {
      "cell_type": "code",
      "execution_count": 7,
      "metadata": {
        "id": "_y6TQr1CkVDa"
      },
      "outputs": [],
      "source": [
        "class WindowGenerator():\n",
        "  def __init__(self, input_width, label_width, shift,\n",
        "               train_df=train_df, val_df=val_df, test_df=test_df,\n",
        "               label_columns=None):\n",
        "    # Store the raw data.\n",
        "    self.train_df = train_df\n",
        "    self.val_df = val_df\n",
        "    self.test_df = test_df\n",
        "\n",
        "    # Work out the label column indices.\n",
        "    self.label_columns = label_columns\n",
        "    if label_columns is not None:\n",
        "      self.label_columns_indices = {name: i for i, name in\n",
        "                                    enumerate(label_columns)}\n",
        "    self.column_indices = {name: i for i, name in\n",
        "                           enumerate(train_df.columns)}\n",
        "\n",
        "    # Work out the window parameters.\n",
        "    self.input_width = input_width\n",
        "    self.label_width = label_width\n",
        "    self.shift = shift\n",
        "\n",
        "    self.total_window_size = input_width + shift\n",
        "\n",
        "    self.input_slice = slice(0, input_width)\n",
        "    self.input_indices = np.arange(self.total_window_size)[self.input_slice]\n",
        "\n",
        "    self.label_start = self.total_window_size - self.label_width\n",
        "    self.labels_slice = slice(self.label_start, None)\n",
        "    self.label_indices = np.arange(self.total_window_size)[self.labels_slice]\n",
        "\n",
        "  def __repr__(self):\n",
        "    return '\\n'.join([\n",
        "        f'Total window size: {self.total_window_size}',\n",
        "        f'Input indices: {self.input_indices}',\n",
        "        f'Label indices: {self.label_indices}',\n",
        "        f'Label column name(s): {self.label_columns}'])"
      ]
    },
    {
      "cell_type": "markdown",
      "metadata": {
        "id": "EkupknaikiJk"
      },
      "source": [
        "Exemplos de uso da classe WindowGenerator"
      ]
    },
    {
      "cell_type": "code",
      "execution_count": 8,
      "metadata": {
        "colab": {
          "base_uri": "https://localhost:8080/"
        },
        "id": "dC0i7c5_khh8",
        "outputId": "95c69378-622a-477e-8916-0f981dc598f0"
      },
      "outputs": [
        {
          "data": {
            "text/plain": [
              "Total window size: 48\n",
              "Input indices: [ 0  1  2  3  4  5  6  7  8  9 10 11 12 13 14 15 16 17 18 19 20 21 22 23]\n",
              "Label indices: [47]\n",
              "Label column name(s): ['Close']"
            ]
          },
          "execution_count": 8,
          "metadata": {},
          "output_type": "execute_result"
        }
      ],
      "source": [
        "w1 = WindowGenerator(input_width=24, label_width=1, shift=24,\n",
        "                     label_columns=['Close'])\n",
        "w1"
      ]
    },
    {
      "cell_type": "code",
      "execution_count": 9,
      "metadata": {
        "colab": {
          "base_uri": "https://localhost:8080/"
        },
        "id": "cfpROppXlFaA",
        "outputId": "0117d3d9-dcc6-49a5-c664-a34f95850290"
      },
      "outputs": [
        {
          "data": {
            "text/plain": [
              "Total window size: 7\n",
              "Input indices: [0 1 2 3 4 5]\n",
              "Label indices: [6]\n",
              "Label column name(s): ['Close']"
            ]
          },
          "execution_count": 9,
          "metadata": {},
          "output_type": "execute_result"
        }
      ],
      "source": [
        "w2 = WindowGenerator(input_width=6, label_width=1, shift=1,\n",
        "                     label_columns=['Close'])\n",
        "w2"
      ]
    },
    {
      "cell_type": "markdown",
      "metadata": {
        "id": "pzDnGmQok7xA"
      },
      "source": [
        "A função split_window é usada para dividir os dados de séries temporais em entradas (inputs) e saídas (targets). Isso é essencial porque modelos de aprendizado profundo precisam aprender padrões a partir de sequências passadas para prever valores futuros.\n",
        "\n",
        "Motivo para dividir a janela\n",
        "Séries temporais são compostas por observações ao longo do tempo. Para que uma rede neural consiga prever um valor futuro, precisamos fornecer janelas de dados históricos como entrada. Essa janela precisa ser dividida entre:\n",
        "\n",
        "Inputs (X): Dados históricos usados para prever.\n",
        "\n",
        "Targets (Y): Valores futuros que queremos prever.\n",
        "\n",
        "\n"
      ]
    },
    {
      "cell_type": "code",
      "execution_count": 10,
      "metadata": {
        "id": "nv2GFH3VlRmr"
      },
      "outputs": [],
      "source": [
        "def split_window(self, features):\n",
        "  inputs = features[:, self.input_slice, :]\n",
        "  labels = features[:, self.labels_slice, :]\n",
        "  if self.label_columns is not None:\n",
        "    labels = tf.stack(\n",
        "        [labels[:, :, self.column_indices[name]] for name in self.label_columns],\n",
        "        axis=-1)\n",
        "\n",
        "  # Slicing doesn't preserve static shape information, so set the shapes\n",
        "  # manually. This way the `tf.data.Datasets` are easier to inspect.\n",
        "  inputs.set_shape([None, self.input_width, None])\n",
        "  labels.set_shape([None, self.label_width, None])\n",
        "\n",
        "  return inputs, labels\n",
        "\n",
        "WindowGenerator.split_window = split_window"
      ]
    },
    {
      "cell_type": "markdown",
      "metadata": {
        "id": "IWJ7gg20l00O"
      },
      "source": [
        "Este diagrama não mostra o eixo de features dos dados, mas essa função split_window também manipula o label_columns para que possa ser usado para exemplos de saída única e saída múltipla."
      ]
    },
    {
      "cell_type": "code",
      "execution_count": 11,
      "metadata": {
        "colab": {
          "base_uri": "https://localhost:8080/"
        },
        "id": "JE7OSXvPl1MT",
        "outputId": "9b3646db-2c35-400c-c25e-1433483d1cb9"
      },
      "outputs": [
        {
          "name": "stdout",
          "output_type": "stream",
          "text": [
            "All shapes are: (batch, time, features)\n",
            "Window shape: (3, 7, 1)\n",
            "Inputs shape: (3, 6, 1)\n",
            "Labels shape: (3, 1, 1)\n"
          ]
        }
      ],
      "source": [
        "# Stack three slices, the length of the total window.\n",
        "example_window = tf.stack([np.array(train_df[:w2.total_window_size]),\n",
        "                           np.array(train_df[100:100+w2.total_window_size]),\n",
        "                           np.array(train_df[200:200+w2.total_window_size])])\n",
        "\n",
        "example_inputs, example_labels = w2.split_window(example_window)\n",
        "\n",
        "print('All shapes are: (batch, time, features)')\n",
        "print(f'Window shape: {example_window.shape}')\n",
        "print(f'Inputs shape: {example_inputs.shape}')\n",
        "print(f'Labels shape: {example_labels.shape}')"
      ]
    },
    {
      "cell_type": "markdown",
      "metadata": {
        "id": "wDFHiPJdmKTI"
      },
      "source": [
        "###Trama\n",
        "Aqui está um método de plotagem que permite uma visualização simples da janela dividida, não estamos usando:"
      ]
    },
    {
      "cell_type": "code",
      "execution_count": 12,
      "metadata": {
        "id": "QQS0p0k2mLmx"
      },
      "outputs": [],
      "source": [
        "w2.example = example_inputs, example_labels"
      ]
    },
    {
      "cell_type": "code",
      "execution_count": 13,
      "metadata": {
        "id": "KE4-V5fWmOPX"
      },
      "outputs": [],
      "source": [
        "def plot(self, model=None, plot_col='Close', max_subplots=3):\n",
        "  inputs, labels = self.example\n",
        "  plt.figure(figsize=(12, 8))\n",
        "  plot_col_index = self.column_indices[plot_col]\n",
        "  max_n = min(max_subplots, len(inputs))\n",
        "  for n in range(max_n):\n",
        "    plt.subplot(max_n, 1, n+1)\n",
        "    plt.ylabel(f'{plot_col} [normed]')\n",
        "    plt.plot(self.input_indices, inputs[n, :, plot_col_index],\n",
        "             label='Inputs', marker='.', zorder=-10)\n",
        "\n",
        "    if self.label_columns:\n",
        "      label_col_index = self.label_columns_indices.get(plot_col, None)\n",
        "    else:\n",
        "      label_col_index = plot_col_index\n",
        "\n",
        "    if label_col_index is None:\n",
        "      continue\n",
        "\n",
        "    plt.scatter(self.label_indices, labels[n, :, label_col_index],\n",
        "                edgecolors='k', label='Labels', c='#2ca02c', s=64)\n",
        "    if model is not None:\n",
        "      predictions = model(inputs)\n",
        "      plt.scatter(self.label_indices, predictions[n, :, label_col_index],\n",
        "                  marker='X', edgecolors='k', label='Predictions',\n",
        "                  c='#ff7f0e', s=64)\n",
        "\n",
        "    if n == 0:\n",
        "      plt.legend()\n",
        "\n",
        "  plt.xlabel('Time [d]')\n",
        "\n",
        "WindowGenerator.plot = plot"
      ]
    },
    {
      "cell_type": "code",
      "execution_count": null,
      "metadata": {
        "colab": {
          "base_uri": "https://localhost:8080/",
          "height": 696
        },
        "id": "-Bk7IceAmPgt",
        "outputId": "d22c8ecf-0e6e-42af-863f-bb3f33fadfc7"
      },
      "outputs": [],
      "source": [
        "w2.plot()"
      ]
    },
    {
      "cell_type": "markdown",
      "metadata": {
        "id": "IDmuv9ULmRCf"
      },
      "source": [
        "###Crie tf.data.Dataset s\n",
        "Finalmente, este método make_dataset um DataFrame de série temporal e o converterá em um tf.data.Dataset de (input_window, label_window) usando a função tf.keras.utils.timeseries_dataset_from_array :"
      ]
    },
    {
      "cell_type": "code",
      "execution_count": 15,
      "metadata": {
        "id": "h-eSlPgJmuh9"
      },
      "outputs": [],
      "source": [
        "def make_dataset(self, data):\n",
        "  data = np.array(data, dtype=np.float32)\n",
        "  ds = tf.keras.utils.timeseries_dataset_from_array(\n",
        "      data=data,\n",
        "      targets=None,\n",
        "      sequence_length=self.total_window_size,\n",
        "      sequence_stride=1,\n",
        "      shuffle=True,\n",
        "      batch_size=32,)\n",
        "\n",
        "  ds = ds.map(self.split_window)\n",
        "\n",
        "  return ds\n",
        "\n",
        "WindowGenerator.make_dataset = make_dataset"
      ]
    },
    {
      "cell_type": "markdown",
      "metadata": {
        "id": "Xw3LRi-1mvdO"
      },
      "source": [
        "O objeto WindowGenerator contém dados de treinamento, validação e teste.\n",
        "\n",
        "Adicione propriedades para acessá-los como tf.data.Dataset s usando o método make_dataset definido anteriormente. Além disso, adicione um lote de exemplo padrão para fácil acesso e plotagem:"
      ]
    },
    {
      "cell_type": "code",
      "execution_count": 16,
      "metadata": {
        "id": "R2eKkFZinIXV"
      },
      "outputs": [],
      "source": [
        "@property\n",
        "def train(self):\n",
        "  return self.make_dataset(self.train_df)\n",
        "\n",
        "@property\n",
        "def val(self):\n",
        "  return self.make_dataset(self.val_df)\n",
        "\n",
        "@property\n",
        "def test(self):\n",
        "  return self.make_dataset(self.test_df)\n",
        "\n",
        "@property\n",
        "def example(self):\n",
        "  \"\"\"Get and cache an example batch of `inputs, labels` for plotting.\"\"\"\n",
        "  result = getattr(self, '_example', None)\n",
        "  if result is None:\n",
        "    # No example batch was found, so get one from the `.train` dataset\n",
        "    result = next(iter(self.train))\n",
        "    # And cache it for next time\n",
        "    self._example = result\n",
        "  return result\n",
        "\n",
        "WindowGenerator.train = train\n",
        "WindowGenerator.val = val\n",
        "WindowGenerator.test = test\n",
        "WindowGenerator.example = example"
      ]
    },
    {
      "cell_type": "markdown",
      "metadata": {
        "id": "UhqmxO1enQ5x"
      },
      "source": [
        "Agora, o objeto WindowGenerator fornece acesso aos objetos tf.data.Dataset , para que você possa iterar facilmente sobre os dados.\n",
        "\n",
        "A propriedade Dataset.element_spec informa a estrutura, os tipos de dados e as formas dos elementos do conjunto de dados."
      ]
    },
    {
      "cell_type": "code",
      "execution_count": 17,
      "metadata": {
        "colab": {
          "base_uri": "https://localhost:8080/"
        },
        "id": "cQ8ceqmWnRuC",
        "outputId": "0a27212e-3390-49cb-be71-fca568b2c2b5"
      },
      "outputs": [
        {
          "data": {
            "text/plain": [
              "(TensorSpec(shape=(None, 6, 1), dtype=tf.float32, name=None),\n",
              " TensorSpec(shape=(None, 1, 1), dtype=tf.float32, name=None))"
            ]
          },
          "execution_count": 17,
          "metadata": {},
          "output_type": "execute_result"
        }
      ],
      "source": [
        "# Each element is an (inputs, label) pair.\n",
        "w2.train.element_spec"
      ]
    },
    {
      "cell_type": "markdown",
      "metadata": {
        "id": "v-HosRyoFNIY"
      },
      "source": [
        "Baseline, copia os ultimos 5 dados do passado como previsão"
      ]
    },
    {
      "cell_type": "code",
      "execution_count": 18,
      "metadata": {},
      "outputs": [
        {
          "name": "stdout",
          "output_type": "stream",
          "text": [
            "\u001b[1m16/16\u001b[0m \u001b[32m━━━━━━━━━━━━━━━━━━━━\u001b[0m\u001b[37m\u001b[0m \u001b[1m0s\u001b[0m 3ms/step - loss: 0.0651 - mean_absolute_error: 0.1995  \n"
          ]
        }
      ],
      "source": [
        "# --------------------------------------\n",
        "# 1. RECRIAÇÃO DO WIDE_WINDOW\n",
        "# --------------------------------------\n",
        "wide_window = WindowGenerator(\n",
        "    input_width=5,\n",
        "    label_width=5,\n",
        "    shift=5,\n",
        "    label_columns=['Close']\n",
        ")\n",
        "\n",
        "# --------------------------------------\n",
        "# 2. ÍNDICE DA COLUNA 'Close'\n",
        "# --------------------------------------\n",
        "column_indices = {name: i for i, name in enumerate(wide_window.train.element_spec[0].shape[-1] * [''])}\n",
        "column_indices['Close'] = 0  # força para univariado se necessário\n",
        "\n",
        "# --------------------------------------\n",
        "# 3. BASELINE (repete os últimos valores como estão)\n",
        "# --------------------------------------\n",
        "class Baseline(tf.keras.Model):\n",
        "    def call(self, inputs):\n",
        "        return inputs  # retorno direto das últimas entradas\n",
        "\n",
        "# --------------------------------------\n",
        "# 4. INSTANCIAR, COMPILAR E AVALIAR\n",
        "# --------------------------------------\n",
        "baseline = Baseline()\n",
        "\n",
        "baseline.compile(loss=tf.losses.MeanSquaredError(),\n",
        "                 metrics=[tf.metrics.MeanAbsoluteError()])\n",
        "\n",
        "val_performance = {}\n",
        "performance = {}\n",
        "\n",
        "val_performance['Baseline_5x5'] = baseline.evaluate(wide_window.val)\n",
        "performance['Baseline_5x5'] = baseline.evaluate(wide_window.test, verbose=0)\n",
        "\n",
        "# --------------------------------------\n",
        "# 5. PLOT\n",
        "# --------------------------------------\n",
        "#wide_window.plot(baseline)\n"
      ]
    },
    {
      "cell_type": "markdown",
      "metadata": {
        "id": "Ioeo4BEApMOW"
      },
      "source": [
        "#Compile"
      ]
    },
    {
      "cell_type": "code",
      "execution_count": 19,
      "metadata": {
        "id": "Zu5c-J46JqNG"
      },
      "outputs": [],
      "source": [
        "MAX_EPOCHS = 20\n",
        "\n",
        "def compile_and_fit(model, window, patience=2):\n",
        "  early_stopping = tf.keras.callbacks.EarlyStopping(monitor='val_loss',\n",
        "                                                    patience=patience,\n",
        "                                                    mode='min')\n",
        "\n",
        "  model.compile(loss=tf.losses.MeanSquaredError(),\n",
        "                optimizer=tf.optimizers.Adam(),\n",
        "                metrics=[tf.metrics.MeanAbsoluteError()])\n",
        "\n",
        "  history = model.fit(window.train, epochs=MAX_EPOCHS,\n",
        "                      validation_data=window.val,\n",
        "                      callbacks=[early_stopping])\n",
        "  return history"
      ]
    },
    {
      "cell_type": "markdown",
      "metadata": {
        "id": "1Lj_y1x4eWMK"
      },
      "source": [
        "#CNNs - Rede neural de convolução\n",
        "\n",
        "---"
      ]
    },
    {
      "cell_type": "code",
      "execution_count": 20,
      "metadata": {
        "colab": {
          "base_uri": "https://localhost:8080/",
          "height": 1000
        },
        "id": "vWr8wrc2SER0",
        "outputId": "56e1f337-4d1b-498b-cac4-e72723e5122e"
      },
      "outputs": [
        {
          "name": "stdout",
          "output_type": "stream",
          "text": [
            "Epoch 1/20\n"
          ]
        },
        {
          "name": "stderr",
          "output_type": "stream",
          "text": [
            "c:\\Users\\joao altarugio\\AppData\\Local\\Programs\\Python\\Python312\\Lib\\site-packages\\keras\\src\\layers\\convolutional\\base_conv.py:113: UserWarning: Do not pass an `input_shape`/`input_dim` argument to a layer. When using Sequential models, prefer using an `Input(shape)` object as the first layer in the model instead.\n",
            "  super().__init__(activity_regularizer=activity_regularizer, **kwargs)\n"
          ]
        },
        {
          "name": "stdout",
          "output_type": "stream",
          "text": [
            "\u001b[1m56/56\u001b[0m \u001b[32m━━━━━━━━━━━━━━━━━━━━\u001b[0m\u001b[37m\u001b[0m \u001b[1m3s\u001b[0m 10ms/step - loss: 0.1837 - mae: 0.3480 - val_loss: 0.0604 - val_mae: 0.1961\n",
            "Epoch 2/20\n",
            "\u001b[1m56/56\u001b[0m \u001b[32m━━━━━━━━━━━━━━━━━━━━\u001b[0m\u001b[37m\u001b[0m \u001b[1m0s\u001b[0m 5ms/step - loss: 0.0059 - mae: 0.0588 - val_loss: 0.0566 - val_mae: 0.1875\n",
            "Epoch 3/20\n",
            "\u001b[1m56/56\u001b[0m \u001b[32m━━━━━━━━━━━━━━━━━━━━\u001b[0m\u001b[37m\u001b[0m \u001b[1m0s\u001b[0m 5ms/step - loss: 0.0041 - mae: 0.0454 - val_loss: 0.0537 - val_mae: 0.1814\n",
            "Epoch 4/20\n",
            "\u001b[1m56/56\u001b[0m \u001b[32m━━━━━━━━━━━━━━━━━━━━\u001b[0m\u001b[37m\u001b[0m \u001b[1m0s\u001b[0m 6ms/step - loss: 0.0034 - mae: 0.0401 - val_loss: 0.0528 - val_mae: 0.1795\n",
            "Epoch 5/20\n",
            "\u001b[1m56/56\u001b[0m \u001b[32m━━━━━━━━━━━━━━━━━━━━\u001b[0m\u001b[37m\u001b[0m \u001b[1m0s\u001b[0m 5ms/step - loss: 0.0032 - mae: 0.0393 - val_loss: 0.0521 - val_mae: 0.1780\n",
            "Epoch 6/20\n",
            "\u001b[1m56/56\u001b[0m \u001b[32m━━━━━━━━━━━━━━━━━━━━\u001b[0m\u001b[37m\u001b[0m \u001b[1m0s\u001b[0m 6ms/step - loss: 0.0030 - mae: 0.0391 - val_loss: 0.0511 - val_mae: 0.1768\n",
            "Epoch 7/20\n",
            "\u001b[1m56/56\u001b[0m \u001b[32m━━━━━━━━━━━━━━━━━━━━\u001b[0m\u001b[37m\u001b[0m \u001b[1m0s\u001b[0m 5ms/step - loss: 0.0030 - mae: 0.0384 - val_loss: 0.0506 - val_mae: 0.1752\n",
            "Epoch 8/20\n",
            "\u001b[1m56/56\u001b[0m \u001b[32m━━━━━━━━━━━━━━━━━━━━\u001b[0m\u001b[37m\u001b[0m \u001b[1m0s\u001b[0m 5ms/step - loss: 0.0027 - mae: 0.0371 - val_loss: 0.0502 - val_mae: 0.1745\n",
            "Epoch 9/20\n",
            "\u001b[1m56/56\u001b[0m \u001b[32m━━━━━━━━━━━━━━━━━━━━\u001b[0m\u001b[37m\u001b[0m \u001b[1m0s\u001b[0m 5ms/step - loss: 0.0029 - mae: 0.0378 - val_loss: 0.0507 - val_mae: 0.1746\n",
            "Epoch 10/20\n",
            "\u001b[1m56/56\u001b[0m \u001b[32m━━━━━━━━━━━━━━━━━━━━\u001b[0m\u001b[37m\u001b[0m \u001b[1m0s\u001b[0m 6ms/step - loss: 0.0028 - mae: 0.0374 - val_loss: 0.0497 - val_mae: 0.1737\n",
            "Epoch 11/20\n",
            "\u001b[1m56/56\u001b[0m \u001b[32m━━━━━━━━━━━━━━━━━━━━\u001b[0m\u001b[37m\u001b[0m \u001b[1m0s\u001b[0m 5ms/step - loss: 0.0030 - mae: 0.0382 - val_loss: 0.0495 - val_mae: 0.1731\n",
            "Epoch 12/20\n",
            "\u001b[1m56/56\u001b[0m \u001b[32m━━━━━━━━━━━━━━━━━━━━\u001b[0m\u001b[37m\u001b[0m \u001b[1m0s\u001b[0m 5ms/step - loss: 0.0027 - mae: 0.0373 - val_loss: 0.0482 - val_mae: 0.1709\n",
            "Epoch 13/20\n",
            "\u001b[1m56/56\u001b[0m \u001b[32m━━━━━━━━━━━━━━━━━━━━\u001b[0m\u001b[37m\u001b[0m \u001b[1m0s\u001b[0m 5ms/step - loss: 0.0028 - mae: 0.0374 - val_loss: 0.0494 - val_mae: 0.1720\n",
            "Epoch 14/20\n",
            "\u001b[1m56/56\u001b[0m \u001b[32m━━━━━━━━━━━━━━━━━━━━\u001b[0m\u001b[37m\u001b[0m \u001b[1m0s\u001b[0m 5ms/step - loss: 0.0027 - mae: 0.0369 - val_loss: 0.0494 - val_mae: 0.1726\n",
            "\u001b[1m16/16\u001b[0m \u001b[32m━━━━━━━━━━━━━━━━━━━━\u001b[0m\u001b[37m\u001b[0m \u001b[1m0s\u001b[0m 3ms/step - loss: 0.0515 - mae: 0.1745 \n"
          ]
        }
      ],
      "source": [
        "import tensorflow as tf\n",
        "import matplotlib.pyplot as plt\n",
        "\n",
        "# --------------------------------------\n",
        "# 1. GERADOR DE JANELAS\n",
        "# --------------------------------------\n",
        "wide_conv_window = WindowGenerator(\n",
        "    input_width=5,\n",
        "    label_width=5,\n",
        "    shift=5,\n",
        "    label_columns=['Close']\n",
        ")\n",
        "\n",
        "# --------------------------------------\n",
        "# 2. PARÂMETROS DINÂMICOS\n",
        "# --------------------------------------\n",
        "sequence_length = wide_conv_window.example[0].shape[1]\n",
        "num_features = wide_conv_window.example[0].shape[2]\n",
        "\n",
        "# --------------------------------------\n",
        "# 3. MODELO CNN (com TimeDistributed)\n",
        "# --------------------------------------\n",
        "cnn_model = tf.keras.Sequential([\n",
        "    tf.keras.layers.Conv1D(filters=32, kernel_size=2, activation='relu', input_shape=(5, 1)),\n",
        "    tf.keras.layers.MaxPooling1D(pool_size=2),\n",
        "    tf.keras.layers.Flatten(),\n",
        "    tf.keras.layers.Dense(100, activation='relu'),\n",
        "    tf.keras.layers.Dense(5)  # previsão para 5 dias\n",
        "])\n",
        "\n",
        "# --------------------------------------\n",
        "# 4. FUNÇÃO DE COMPILAÇÃO E TREINAMENTO\n",
        "# --------------------------------------\n",
        "def compile_and_fit(model, window, patience=2):\n",
        "    early_stopping = tf.keras.callbacks.EarlyStopping(monitor='val_loss',\n",
        "                                                      patience=patience,\n",
        "                                                      mode='min')\n",
        "\n",
        "    model.compile(loss='mse',\n",
        "                  optimizer='adam',\n",
        "                  metrics=['mae'])\n",
        "\n",
        "    history = model.fit(window.train,\n",
        "                        epochs=20,\n",
        "                        validation_data=window.val,\n",
        "                        callbacks=[early_stopping])\n",
        "    return history\n",
        "\n",
        "# --------------------------------------\n",
        "# 5. TREINAMENTO\n",
        "# --------------------------------------\n",
        "history = compile_and_fit(cnn_model, wide_conv_window)\n",
        "\n",
        "# --------------------------------------\n",
        "# 6. AVALIAÇÃO\n",
        "# --------------------------------------\n",
        "\n",
        "val_performance['CNN_5x5'] = cnn_model.evaluate(wide_conv_window.val)\n",
        "performance['CNN_5x5'] = cnn_model.evaluate(wide_conv_window.test, verbose=0)\n",
        "\n",
        "# --------------------------------------\n",
        "# 7. VISUALIZAÇÃO\n",
        "# --------------------------------------\n",
        "#wide_conv_window.plot(cnn_model)\n"
      ]
    },
    {
      "cell_type": "markdown",
      "metadata": {
        "id": "NhlmB5PKajz1"
      },
      "source": [
        "##LSTM\n",
        "\n",
        "\n",
        "\n",
        "---\n",
        "\n",
        "\n"
      ]
    },
    {
      "cell_type": "code",
      "execution_count": 21,
      "metadata": {
        "colab": {
          "base_uri": "https://localhost:8080/",
          "height": 717
        },
        "id": "n8AgC_VqQyF5",
        "outputId": "4f7097af-bbdf-4423-cafa-066d6b014eb9"
      },
      "outputs": [
        {
          "name": "stdout",
          "output_type": "stream",
          "text": [
            "\u001b[1m16/16\u001b[0m \u001b[32m━━━━━━━━━━━━━━━━━━━━\u001b[0m\u001b[37m\u001b[0m \u001b[1m0s\u001b[0m 5ms/step - loss: 0.0434 - mae: 0.1607\n"
          ]
        }
      ],
      "source": [
        "wide_window = WindowGenerator(\n",
        "    input_width=5, label_width=5, shift=5,\n",
        "    label_columns=['Close'])\n",
        "\n",
        "\n",
        "# Supondo que:\n",
        "# sequence_length = 10  (input_length no artigo)\n",
        "# output_length = 5     (para 5 dias no futuro)\n",
        "# num_features = 1      (univariado, apenas a coluna 'Open')\n",
        "\n",
        "sequence_length = wide_window.example[0].shape[1]  # 5\n",
        "num_features = wide_window.example[0].shape[2]    # 1\n",
        "\n",
        "lstm_model = tf.keras.Sequential([\n",
        "    tf.keras.layers.LSTM(200, activation='tanh', input_shape=(sequence_length, num_features)),\n",
        "    tf.keras.layers.Dense(100, activation='tanh'),\n",
        "    tf.keras.layers.Dense(5)  # saída para 5 dias futuros\n",
        "])\n",
        "\n",
        "\n",
        "\n",
        "history = compile_and_fit(lstm_model, wide_window)\n",
        "\n",
        "IPython.display.clear_output()\n",
        "val_performance['LSTM_5x5'] = lstm_model.evaluate(wide_window.val)\n",
        "performance['LSTM_5x5'] = lstm_model.evaluate(wide_window.test, verbose=0)\n",
        "\n",
        "#wide_window.plot(lstm_model)\n"
      ]
    },
    {
      "cell_type": "markdown",
      "metadata": {
        "id": "5mNcWl0-aoLb"
      },
      "source": [
        "#Desempenho\n",
        "Com esse conjunto de dados, normalmente cada um dos modelos se sai um pouco melhor do que o anterior:"
      ]
    },
    {
      "cell_type": "code",
      "execution_count": 22,
      "metadata": {
        "colab": {
          "base_uri": "https://localhost:8080/"
        },
        "id": "K_mdmd_z27Py",
        "outputId": "1f8b0252-e47e-4b47-c207-6b0f474c2f45"
      },
      "outputs": [
        {
          "name": "stdout",
          "output_type": "stream",
          "text": [
            "dict_values([[0.17158663272857666, 0.3223312795162201], [0.1305185705423355, 0.2757420539855957], [0.1083260253071785, 0.2493123561143875]])\n",
            "dict_values([[0.06599130481481552, 0.20093582570552826], [0.04939563199877739, 0.17260119318962097], [0.04350642114877701, 0.16309884190559387]])\n"
          ]
        }
      ],
      "source": [
        "print(performance.values())\n",
        "print(val_performance.values())"
      ]
    },
    {
      "cell_type": "code",
      "execution_count": 23,
      "metadata": {
        "colab": {
          "base_uri": "https://localhost:8080/"
        },
        "id": "DbUIT8-zi5zj",
        "outputId": "55728cf9-cedc-43c0-b610-f18d0ac86105"
      },
      "outputs": [
        {
          "name": "stdout",
          "output_type": "stream",
          "text": [
            "['loss', 'compile_metrics']\n"
          ]
        }
      ],
      "source": [
        "print(lstm_model.metrics_names)"
      ]
    },
    {
      "cell_type": "code",
      "execution_count": 24,
      "metadata": {
        "colab": {
          "base_uri": "https://localhost:8080/"
        },
        "id": "yOXO4C_b2--c",
        "outputId": "50053598-0efc-4abf-c24a-3f59cdb39071"
      },
      "outputs": [
        {
          "name": "stdout",
          "output_type": "stream",
          "text": [
            "2 [0.17158663272857666, 0.3223312795162201]\n",
            "2 [0.1305185705423355, 0.2757420539855957]\n",
            "2 [0.1083260253071785, 0.2493123561143875]\n"
          ]
        }
      ],
      "source": [
        "for v in performance.values():\n",
        "    print(len(v), v)"
      ]
    },
    {
      "cell_type": "code",
      "execution_count": 25,
      "metadata": {
        "colab": {
          "base_uri": "https://localhost:8080/",
          "height": 507
        },
        "id": "d01WkafzgSOa",
        "outputId": "1bdf61bb-6de3-4e1b-e71a-3ca3a81dd3a4"
      },
      "outputs": [
        {
          "data": {
            "image/png": "[encoded data removed]",
            "text/plain": [
              "<Figure size 800x500 with 1 Axes>"
            ]
          },
          "metadata": {},
          "output_type": "display_data"
        }
      ],
      "source": [
        "import numpy as np\n",
        "import matplotlib.pyplot as plt\n",
        "\n",
        "x = np.arange(len(performance))\n",
        "width = 0.3\n",
        "metric_name = 'mean_absolute_error'\n",
        "\n",
        "# Pega o índice correto da métrica\n",
        "metric_index = lstm_model.metrics_names.index(\"compile_metrics\")\n",
        "\n",
        "# Extrai os valores da métrica\n",
        "val_mae = [v[metric_index] for v in val_performance.values()]\n",
        "test_mae = [v[metric_index] for v in performance.values()]\n",
        "\n",
        "# Cria o gráfico de barras\n",
        "plt.figure(figsize=(8, 5))\n",
        "plt.ylabel(metric_name)\n",
        "bars1 = plt.bar(x - 0.17, val_mae, width, label='Validation')\n",
        "bars2 = plt.bar(x + 0.17, test_mae, width, label='Test')\n",
        "\n",
        "# Adiciona os valores no topo das barras\n",
        "for bar in bars1:\n",
        "    height = bar.get_height()\n",
        "    plt.text(bar.get_x() + bar.get_width() / 2, height,\n",
        "             f'{height:.3f}', ha='center', va='bottom')\n",
        "\n",
        "for bar in bars2:\n",
        "    height = bar.get_height()\n",
        "    plt.text(bar.get_x() + bar.get_width() / 2, height,\n",
        "             f'{height:.3f}', ha='center', va='bottom')\n",
        "\n",
        "plt.xticks(ticks=x, labels=performance.keys(), rotation=45)\n",
        "plt.legend()\n",
        "plt.tight_layout()\n",
        "plt.show()\n"
      ]
    },
    {
      "cell_type": "code",
      "execution_count": 26,
      "metadata": {
        "colab": {
          "base_uri": "https://localhost:8080/"
        },
        "id": "znUBvNMFa5l_",
        "outputId": "af5dc38e-db8e-4397-f085-03c27986d4a9"
      },
      "outputs": [
        {
          "name": "stdout",
          "output_type": "stream",
          "text": [
            "Baseline_5x5: 0.3223\n",
            "CNN_5x5     : 0.2757\n",
            "LSTM_5x5    : 0.2493\n"
          ]
        }
      ],
      "source": [
        "for name, value in performance.items():\n",
        "  print(f'{name:12s}: {value[1]:0.4f}')"
      ]
    }
  ],
  "metadata": {
    "colab": {
      "collapsed_sections": [
        "1Lj_y1x4eWMK"
      ],
      "provenance": []
    },
    "kernelspec": {
      "display_name": "Python 3",
      "name": "python3"
    },
    "language_info": {
      "codemirror_mode": {
        "name": "ipython",
        "version": 3
      },
      "file_extension": ".py",
      "mimetype": "text/x-python",
      "name": "python",
      "nbconvert_exporter": "python",
      "pygments_lexer": "ipython3",
      "version": "3.12.4"
    }
  },
  "nbformat": 4,
  "nbformat_minor": 0
}
