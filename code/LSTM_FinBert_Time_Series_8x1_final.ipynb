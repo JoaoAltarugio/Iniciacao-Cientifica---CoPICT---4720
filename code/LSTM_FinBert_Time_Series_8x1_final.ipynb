{
  "cells": [
    {
      "cell_type": "code",
      "execution_count": 1,
      "metadata": {
        "colab": {
          "base_uri": "https://localhost:8080/",
          "height": 424
        },
        "id": "ugZlNHVvhXdb",
        "outputId": "693b42c9-23df-494b-d6a2-6eda6c9fc9c8"
      },
      "outputs": [
        {
          "data": {
            "text/html": [
              "<div>\n",
              "<style scoped>\n",
              "    .dataframe tbody tr th:only-of-type {\n",
              "        vertical-align: middle;\n",
              "    }\n",
              "\n",
              "    .dataframe tbody tr th {\n",
              "        vertical-align: top;\n",
              "    }\n",
              "\n",
              "    .dataframe thead th {\n",
              "        text-align: right;\n",
              "    }\n",
              "</style>\n",
              "<table border=\"1\" class=\"dataframe\">\n",
              "  <thead>\n",
              "    <tr style=\"text-align: right;\">\n",
              "      <th></th>\n",
              "      <th>Close</th>\n",
              "    </tr>\n",
              "    <tr>\n",
              "      <th>Date</th>\n",
              "      <th></th>\n",
              "    </tr>\n",
              "  </thead>\n",
              "  <tbody>\n",
              "    <tr>\n",
              "      <th>2015-01-05</th>\n",
              "      <td>46.320000</td>\n",
              "    </tr>\n",
              "    <tr>\n",
              "      <th>2015-01-06</th>\n",
              "      <td>46.580002</td>\n",
              "    </tr>\n",
              "    <tr>\n",
              "      <th>2015-01-07</th>\n",
              "      <td>48.150002</td>\n",
              "    </tr>\n",
              "    <tr>\n",
              "      <th>2015-01-08</th>\n",
              "      <td>48.509998</td>\n",
              "    </tr>\n",
              "    <tr>\n",
              "      <th>2015-01-09</th>\n",
              "      <td>47.529999</td>\n",
              "    </tr>\n",
              "    <tr>\n",
              "      <th>...</th>\n",
              "      <td>...</td>\n",
              "    </tr>\n",
              "    <tr>\n",
              "      <th>2025-04-28</th>\n",
              "      <td>131.649994</td>\n",
              "    </tr>\n",
              "    <tr>\n",
              "      <th>2025-04-29</th>\n",
              "      <td>131.860001</td>\n",
              "    </tr>\n",
              "    <tr>\n",
              "      <th>2025-04-30</th>\n",
              "      <td>131.630005</td>\n",
              "    </tr>\n",
              "    <tr>\n",
              "      <th>2025-05-02</th>\n",
              "      <td>131.850006</td>\n",
              "    </tr>\n",
              "    <tr>\n",
              "      <th>2025-05-05</th>\n",
              "      <td>130.419998</td>\n",
              "    </tr>\n",
              "  </tbody>\n",
              "</table>\n",
              "<p>2542 rows × 1 columns</p>\n",
              "</div>"
            ],
            "text/plain": [
              "                 Close\n",
              "Date                  \n",
              "2015-01-05   46.320000\n",
              "2015-01-06   46.580002\n",
              "2015-01-07   48.150002\n",
              "2015-01-08   48.509998\n",
              "2015-01-09   47.529999\n",
              "...                ...\n",
              "2025-04-28  131.649994\n",
              "2025-04-29  131.860001\n",
              "2025-04-30  131.630005\n",
              "2025-05-02  131.850006\n",
              "2025-05-05  130.419998\n",
              "\n",
              "[2542 rows x 1 columns]"
            ]
          },
          "execution_count": 1,
          "metadata": {},
          "output_type": "execute_result"
        }
      ],
      "source": [
        "import pickle\n",
        "import pandas as pd\n",
        "import pickle\n",
        "caminho_arquivo = \"/Users/joao altarugio/Desktop/IC - Levada/DataGeral/bova11_teste.pkl\"\n",
        "with open(caminho_arquivo, \"rb\") as f:\n",
        "   df = pickle.load(f)\n",
        "df"
      ]
    },
    {
      "cell_type": "markdown",
      "metadata": {
        "id": "PvEb4BTIazai"
      },
      "source": [
        "#TF\n"
      ]
    },
    {
      "cell_type": "code",
      "execution_count": 2,
      "metadata": {
        "id": "g8ej9W0oa5OO"
      },
      "outputs": [],
      "source": [
        "import os\n",
        "import datetime\n",
        "\n",
        "import IPython\n",
        "import IPython.display\n",
        "import matplotlib as mpl\n",
        "import matplotlib.pyplot as plt\n",
        "import numpy as np\n",
        "import pandas as pd\n",
        "import seaborn as sns\n",
        "import tensorflow as tf\n",
        "\n",
        "mpl.rcParams['figure.figsize'] = (8, 6)\n",
        "mpl.rcParams['axes.grid'] = False"
      ]
    },
    {
      "cell_type": "markdown",
      "metadata": {
        "id": "6OBFkLmIgzCH"
      },
      "source": [
        "###Dividir os dados\n",
        "Você usará uma divisão (70%, 20%, 10%) para os conjuntos de treinamento, validação e teste. Observe que os dados não estão sendo embaralhados aleatoriamente antes da divisão. Isso por dois motivos:\n",
        "\n",
        "Garante que ainda é possível cortar os dados em janelas de amostras consecutivas.\n",
        "Garante que os resultados da validação/teste sejam mais realistas, sendo avaliados nos dados coletados após o treinamento do modelo."
      ]
    },
    {
      "cell_type": "code",
      "execution_count": 3,
      "metadata": {
        "id": "AGRXvGu2guAf"
      },
      "outputs": [],
      "source": [
        "column_indices = {name: i for i, name in enumerate(df.columns)}\n",
        "\n",
        "n = len(df)\n",
        "train_df = df[0:int(n*0.7)]\n",
        "val_df = df[int(n*0.7):int(n*0.9)]\n",
        "test_df = df[int(n*0.9):]\n",
        "\n",
        "num_features = df.shape[1]"
      ]
    },
    {
      "cell_type": "markdown",
      "metadata": {
        "id": "SrvEFrt5g1cY"
      },
      "source": [
        "###Normalize os dados\n",
        "É importante dimensionar recursos antes de treinar uma rede neural. A normalização é uma maneira comum de fazer essa escala: subtrair a média e dividir pelo desvio padrão de cada recurso.\n",
        "\n",
        "A média e o desvio padrão só devem ser calculados usando os dados de treinamento para que os modelos não tenham acesso aos valores nos conjuntos de validação e teste."
      ]
    },
    {
      "cell_type": "code",
      "execution_count": 4,
      "metadata": {
        "id": "Sag2uPobn8pZ"
      },
      "outputs": [],
      "source": [
        "from sklearn.preprocessing import RobustScaler\n",
        "\n",
        "scaler = RobustScaler()\n",
        "train_df = scaler.fit_transform(train_df)\n",
        "val_df = scaler.fit_transform(val_df)\n",
        "test_df = scaler.fit_transform(test_df)"
      ]
    },
    {
      "cell_type": "code",
      "execution_count": 5,
      "metadata": {
        "colab": {
          "base_uri": "https://localhost:8080/"
        },
        "id": "Ue4-KXatVAjx",
        "outputId": "74c8af9c-7246-4447-fc04-5be7b7751e79"
      },
      "outputs": [
        {
          "name": "stdout",
          "output_type": "stream",
          "text": [
            "Index(['Close'], dtype='object')\n"
          ]
        }
      ],
      "source": [
        "Colunas = print(df.columns)"
      ]
    },
    {
      "cell_type": "code",
      "execution_count": 6,
      "metadata": {
        "id": "zHbeHVwtqC1K"
      },
      "outputs": [],
      "source": [
        "train_df = pd.DataFrame(train_df, columns=['Close'])\n",
        "val_df = pd.DataFrame(val_df, columns=['Close'])\n",
        "test_df = pd.DataFrame(test_df, columns=['Close'])"
      ]
    },
    {
      "cell_type": "markdown",
      "metadata": {
        "id": "SUjqqg6gkJWv"
      },
      "source": [
        "Classe **WindowGenerator** . Esta classe pode:\n",
        "\n",
        "Manipule os índices e deslocamentos.\n",
        "Divida janelas de recursos em pares (features, labels) .\n",
        "Plote o conteúdo das janelas resultantes.\n",
        "Gere lotes dessas janelas com eficiência a partir dos dados de treinamento, avaliação e teste, usando tf.data.Dataset s."
      ]
    },
    {
      "cell_type": "code",
      "execution_count": 7,
      "metadata": {
        "id": "_y6TQr1CkVDa"
      },
      "outputs": [],
      "source": [
        "class WindowGenerator():\n",
        "  def __init__(self, input_width, label_width, shift,\n",
        "               train_df=train_df, val_df=val_df, test_df=test_df,\n",
        "               label_columns=None):\n",
        "    # Store the raw data.\n",
        "    self.train_df = train_df\n",
        "    self.val_df = val_df\n",
        "    self.test_df = test_df\n",
        "\n",
        "    # Work out the label column indices.\n",
        "    self.label_columns = label_columns\n",
        "    if label_columns is not None:\n",
        "      self.label_columns_indices = {name: i for i, name in\n",
        "                                    enumerate(label_columns)}\n",
        "    self.column_indices = {name: i for i, name in\n",
        "                           enumerate(train_df.columns)}\n",
        "\n",
        "    # Work out the window parameters.\n",
        "    self.input_width = input_width\n",
        "    self.label_width = label_width\n",
        "    self.shift = shift\n",
        "\n",
        "    self.total_window_size = input_width + shift\n",
        "\n",
        "    self.input_slice = slice(0, input_width)\n",
        "    self.input_indices = np.arange(self.total_window_size)[self.input_slice]\n",
        "\n",
        "    self.label_start = self.total_window_size - self.label_width\n",
        "    self.labels_slice = slice(self.label_start, None)\n",
        "    self.label_indices = np.arange(self.total_window_size)[self.labels_slice]\n",
        "\n",
        "  def __repr__(self):\n",
        "    return '\\n'.join([\n",
        "        f'Total window size: {self.total_window_size}',\n",
        "        f'Input indices: {self.input_indices}',\n",
        "        f'Label indices: {self.label_indices}',\n",
        "        f'Label column name(s): {self.label_columns}'])"
      ]
    },
    {
      "cell_type": "markdown",
      "metadata": {
        "id": "EkupknaikiJk"
      },
      "source": [
        "Exemplos de uso da classe WindowGenerator"
      ]
    },
    {
      "cell_type": "code",
      "execution_count": 8,
      "metadata": {
        "colab": {
          "base_uri": "https://localhost:8080/"
        },
        "id": "dC0i7c5_khh8",
        "outputId": "95c69378-622a-477e-8916-0f981dc598f0"
      },
      "outputs": [
        {
          "data": {
            "text/plain": [
              "Total window size: 48\n",
              "Input indices: [ 0  1  2  3  4  5  6  7  8  9 10 11 12 13 14 15 16 17 18 19 20 21 22 23]\n",
              "Label indices: [47]\n",
              "Label column name(s): ['Close']"
            ]
          },
          "execution_count": 8,
          "metadata": {},
          "output_type": "execute_result"
        }
      ],
      "source": [
        "w1 = WindowGenerator(input_width=24, label_width=1, shift=24,\n",
        "                     label_columns=['Close'])\n",
        "w1"
      ]
    },
    {
      "cell_type": "code",
      "execution_count": 9,
      "metadata": {
        "colab": {
          "base_uri": "https://localhost:8080/"
        },
        "id": "cfpROppXlFaA",
        "outputId": "0117d3d9-dcc6-49a5-c664-a34f95850290"
      },
      "outputs": [
        {
          "data": {
            "text/plain": [
              "Total window size: 7\n",
              "Input indices: [0 1 2 3 4 5]\n",
              "Label indices: [6]\n",
              "Label column name(s): ['Close']"
            ]
          },
          "execution_count": 9,
          "metadata": {},
          "output_type": "execute_result"
        }
      ],
      "source": [
        "w2 = WindowGenerator(input_width=6, label_width=1, shift=1,\n",
        "                     label_columns=['Close'])\n",
        "w2"
      ]
    },
    {
      "cell_type": "markdown",
      "metadata": {
        "id": "pzDnGmQok7xA"
      },
      "source": [
        "A função split_window é usada para dividir os dados de séries temporais em entradas (inputs) e saídas (targets). Isso é essencial porque modelos de aprendizado profundo precisam aprender padrões a partir de sequências passadas para prever valores futuros.\n",
        "\n",
        "Motivo para dividir a janela\n",
        "Séries temporais são compostas por observações ao longo do tempo. Para que uma rede neural consiga prever um valor futuro, precisamos fornecer janelas de dados históricos como entrada. Essa janela precisa ser dividida entre:\n",
        "\n",
        "Inputs (X): Dados históricos usados para prever.\n",
        "\n",
        "Targets (Y): Valores futuros que queremos prever.\n",
        "\n",
        "---\n"
      ]
    },
    {
      "cell_type": "code",
      "execution_count": 10,
      "metadata": {
        "id": "nv2GFH3VlRmr"
      },
      "outputs": [],
      "source": [
        "def split_window(self, features):\n",
        "  inputs = features[:, self.input_slice, :]\n",
        "  labels = features[:, self.labels_slice, :]\n",
        "  if self.label_columns is not None:\n",
        "    labels = tf.stack(\n",
        "        [labels[:, :, self.column_indices[name]] for name in self.label_columns],\n",
        "        axis=-1)\n",
        "\n",
        "  # Slicing doesn't preserve static shape information, so set the shapes\n",
        "  # manually. This way the `tf.data.Datasets` are easier to inspect.\n",
        "  inputs.set_shape([None, self.input_width, None])\n",
        "  labels.set_shape([None, self.label_width, None])\n",
        "\n",
        "  return inputs, labels\n",
        "\n",
        "WindowGenerator.split_window = split_window"
      ]
    },
    {
      "cell_type": "markdown",
      "metadata": {
        "id": "IWJ7gg20l00O"
      },
      "source": [
        "Este diagrama não mostra o eixo de features dos dados, mas essa função split_window também manipula o label_columns para que possa ser usado para exemplos de saída única e saída múltipla."
      ]
    },
    {
      "cell_type": "code",
      "execution_count": 11,
      "metadata": {
        "colab": {
          "base_uri": "https://localhost:8080/"
        },
        "id": "JE7OSXvPl1MT",
        "outputId": "9b3646db-2c35-400c-c25e-1433483d1cb9"
      },
      "outputs": [
        {
          "name": "stdout",
          "output_type": "stream",
          "text": [
            "All shapes are: (batch, time, features)\n",
            "Window shape: (3, 7, 1)\n",
            "Inputs shape: (3, 6, 1)\n",
            "Labels shape: (3, 1, 1)\n"
          ]
        }
      ],
      "source": [
        "# Stack three slices, the length of the total window.\n",
        "example_window = tf.stack([np.array(train_df[:w2.total_window_size]),\n",
        "                           np.array(train_df[100:100+w2.total_window_size]),\n",
        "                           np.array(train_df[200:200+w2.total_window_size])])\n",
        "\n",
        "example_inputs, example_labels = w2.split_window(example_window)\n",
        "\n",
        "print('All shapes are: (batch, time, features)')\n",
        "print(f'Window shape: {example_window.shape}')\n",
        "print(f'Inputs shape: {example_inputs.shape}')\n",
        "print(f'Labels shape: {example_labels.shape}')"
      ]
    },
    {
      "cell_type": "markdown",
      "metadata": {
        "id": "wDFHiPJdmKTI"
      },
      "source": [
        "###Trama\n",
        "Aqui está um método de plotagem que permite uma visualização simples da janela dividida, não estamos usando:"
      ]
    },
    {
      "cell_type": "code",
      "execution_count": 12,
      "metadata": {
        "id": "QQS0p0k2mLmx"
      },
      "outputs": [],
      "source": [
        "w2.example = example_inputs, example_labels"
      ]
    },
    {
      "cell_type": "code",
      "execution_count": 13,
      "metadata": {
        "id": "KE4-V5fWmOPX"
      },
      "outputs": [],
      "source": [
        "def plot(self, model=None, plot_col='Close', max_subplots=3):\n",
        "  inputs, labels = self.example\n",
        "  plt.figure(figsize=(12, 8))\n",
        "  plot_col_index = self.column_indices[plot_col]\n",
        "  max_n = min(max_subplots, len(inputs))\n",
        "  for n in range(max_n):\n",
        "    plt.subplot(max_n, 1, n+1)\n",
        "    plt.ylabel(f'{plot_col} [normed]')\n",
        "    plt.plot(self.input_indices, inputs[n, :, plot_col_index],\n",
        "             label='Inputs', marker='.', zorder=-10)\n",
        "\n",
        "    if self.label_columns:\n",
        "      label_col_index = self.label_columns_indices.get(plot_col, None)\n",
        "    else:\n",
        "      label_col_index = plot_col_index\n",
        "\n",
        "    if label_col_index is None:\n",
        "      continue\n",
        "\n",
        "    plt.scatter(self.label_indices, labels[n, :, label_col_index],\n",
        "                edgecolors='k', label='Labels', c='#2ca02c', s=64)\n",
        "    if model is not None:\n",
        "      predictions = model(inputs)\n",
        "      plt.scatter(self.label_indices, predictions[n, :, label_col_index],\n",
        "                  marker='X', edgecolors='k', label='Predictions',\n",
        "                  c='#ff7f0e', s=64)\n",
        "\n",
        "    if n == 0:\n",
        "      plt.legend()\n",
        "\n",
        "  plt.xlabel('Time [d]')\n",
        "\n",
        "WindowGenerator.plot = plot"
      ]
    },
    {
      "cell_type": "code",
      "execution_count": 14,
      "metadata": {
        "colab": {
          "base_uri": "https://localhost:8080/",
          "height": 696
        },
        "id": "-Bk7IceAmPgt",
        "outputId": "d22c8ecf-0e6e-42af-863f-bb3f33fadfc7"
      },
      "outputs": [
        {
          "data": {
            "image/png": "[encoded data removed]",
            "text/plain": [
              "<Figure size 1200x800 with 3 Axes>"
            ]
          },
          "metadata": {},
          "output_type": "display_data"
        }
      ],
      "source": [
        "w2.plot()"
      ]
    },
    {
      "cell_type": "markdown",
      "metadata": {
        "id": "IDmuv9ULmRCf"
      },
      "source": [
        "###Crie tf.data.Dataset s\n",
        "Finalmente, este método make_dataset um DataFrame de série temporal e o converterá em um tf.data.Dataset de (input_window, label_window) usando a função tf.keras.utils.timeseries_dataset_from_array :"
      ]
    },
    {
      "cell_type": "code",
      "execution_count": 15,
      "metadata": {
        "id": "h-eSlPgJmuh9"
      },
      "outputs": [],
      "source": [
        "def make_dataset(self, data):\n",
        "  data = np.array(data, dtype=np.float32)\n",
        "  ds = tf.keras.utils.timeseries_dataset_from_array(\n",
        "      data=data,\n",
        "      targets=None,\n",
        "      sequence_length=self.total_window_size,\n",
        "      sequence_stride=1,\n",
        "      shuffle=True,\n",
        "      batch_size=32,)\n",
        "\n",
        "  ds = ds.map(self.split_window)\n",
        "\n",
        "  return ds\n",
        "\n",
        "WindowGenerator.make_dataset = make_dataset"
      ]
    },
    {
      "cell_type": "markdown",
      "metadata": {
        "id": "Xw3LRi-1mvdO"
      },
      "source": [
        "O objeto WindowGenerator contém dados de treinamento, validação e teste.\n",
        "\n",
        "Adicione propriedades para acessá-los como tf.data.Dataset s usando o método make_dataset definido anteriormente. Além disso, adicione um lote de exemplo padrão para fácil acesso e plotagem:"
      ]
    },
    {
      "cell_type": "code",
      "execution_count": 16,
      "metadata": {
        "id": "R2eKkFZinIXV"
      },
      "outputs": [],
      "source": [
        "@property\n",
        "def train(self):\n",
        "  return self.make_dataset(self.train_df)\n",
        "\n",
        "@property\n",
        "def val(self):\n",
        "  return self.make_dataset(self.val_df)\n",
        "\n",
        "@property\n",
        "def test(self):\n",
        "  return self.make_dataset(self.test_df)\n",
        "\n",
        "@property\n",
        "def example(self):\n",
        "  \"\"\"Get and cache an example batch of `inputs, labels` for plotting.\"\"\"\n",
        "  result = getattr(self, '_example', None)\n",
        "  if result is None:\n",
        "    # No example batch was found, so get one from the `.train` dataset\n",
        "    result = next(iter(self.train))\n",
        "    # And cache it for next time\n",
        "    self._example = result\n",
        "  return result\n",
        "\n",
        "WindowGenerator.train = train\n",
        "WindowGenerator.val = val\n",
        "WindowGenerator.test = test\n",
        "WindowGenerator.example = example"
      ]
    },
    {
      "cell_type": "markdown",
      "metadata": {
        "id": "UhqmxO1enQ5x"
      },
      "source": [
        "Agora, o objeto WindowGenerator fornece acesso aos objetos tf.data.Dataset , para que você possa iterar facilmente sobre os dados.\n",
        "\n",
        "A propriedade Dataset.element_spec informa a estrutura, os tipos de dados e as formas dos elementos do conjunto de dados."
      ]
    },
    {
      "cell_type": "code",
      "execution_count": 17,
      "metadata": {
        "colab": {
          "base_uri": "https://localhost:8080/"
        },
        "id": "cQ8ceqmWnRuC",
        "outputId": "0a27212e-3390-49cb-be71-fca568b2c2b5"
      },
      "outputs": [
        {
          "data": {
            "text/plain": [
              "(TensorSpec(shape=(None, 6, 1), dtype=tf.float32, name=None),\n",
              " TensorSpec(shape=(None, 1, 1), dtype=tf.float32, name=None))"
            ]
          },
          "execution_count": 17,
          "metadata": {},
          "output_type": "execute_result"
        }
      ],
      "source": [
        "# Each element is an (inputs, label) pair.\n",
        "w2.train.element_spec"
      ]
    },
    {
      "cell_type": "code",
      "execution_count": 18,
      "metadata": {},
      "outputs": [],
      "source": [
        "val_performance = {}\n",
        "performance = {}"
      ]
    },
    {
      "cell_type": "code",
      "execution_count": 19,
      "metadata": {
        "id": "Zu5c-J46JqNG"
      },
      "outputs": [],
      "source": [
        "MAX_EPOCHS = 20\n",
        "\n",
        "def compile_and_fit(model, window, patience=2):\n",
        "  early_stopping = tf.keras.callbacks.EarlyStopping(monitor='val_loss',\n",
        "                                                    patience=patience,\n",
        "                                                    mode='min')\n",
        "\n",
        "  model.compile(loss=tf.losses.MeanSquaredError(),\n",
        "                optimizer=tf.optimizers.Adam(),\n",
        "                metrics=[tf.metrics.MeanAbsoluteError()])\n",
        "\n",
        "  history = model.fit(window.train, epochs=MAX_EPOCHS,\n",
        "                      validation_data=window.val,\n",
        "                      callbacks=[early_stopping])\n",
        "  return history"
      ]
    },
    {
      "cell_type": "markdown",
      "metadata": {},
      "source": [
        "# LSTM"
      ]
    },
    {
      "cell_type": "code",
      "execution_count": 20,
      "metadata": {},
      "outputs": [
        {
          "name": "stdout",
          "output_type": "stream",
          "text": [
            "\u001b[1m16/16\u001b[0m \u001b[32m━━━━━━━━━━━━━━━━━━━━\u001b[0m\u001b[37m\u001b[0m \u001b[1m0s\u001b[0m 6ms/step - loss: 0.0215 - mae: 0.1200\n"
          ]
        }
      ],
      "source": [
        "import tensorflow as tf\n",
        "import IPython.display\n",
        "\n",
        "# --------------------------------------\n",
        "# 1. GERADOR DE JANELAS MULTIVARIADO\n",
        "# --------------------------------------\n",
        "wide_window = WindowGenerator(\n",
        "    input_width=8,\n",
        "    label_width=1,\n",
        "    shift=1,\n",
        "    label_columns=['Close']\n",
        ")\n",
        "\n",
        "# --------------------------------------\n",
        "# 2. FUNÇÃO DE COMPILAÇÃO E TREINAMENTO\n",
        "# --------------------------------------\n",
        "def compile_and_fit(model, window, patience=2):\n",
        "    early_stopping = tf.keras.callbacks.EarlyStopping(monitor='val_loss',\n",
        "                                                      patience=patience,\n",
        "                                                      mode='min')\n",
        "\n",
        "    model.compile(\n",
        "        loss='mse',              # Função de perda MSE\n",
        "        optimizer='adam',        # Otimizador Adam\n",
        "        metrics=['mae']          # Métrica MAE para acompanhamento\n",
        "    )\n",
        "\n",
        "    history = model.fit(\n",
        "        window.train,\n",
        "        epochs=100,              # 100 épocas conforme especificado\n",
        "        validation_data=window.val,\n",
        "        callbacks=[early_stopping]\n",
        "    )\n",
        "    return history\n",
        "\n",
        "# --------------------------------------\n",
        "# 3. PARÂMETROS DE ENTRADA DO MODELO\n",
        "# --------------------------------------\n",
        "sequence_length = wide_window.example[0].shape[1]   # Ex: 8\n",
        "num_features = wide_window.example[0].shape[2]      # Ex: 5\n",
        "\n",
        "# --------------------------------------\n",
        "# 4. DEFINIÇÃO DA ARQUITETURA LSTM\n",
        "# --------------------------------------\n",
        "lstm_model = tf.keras.Sequential([\n",
        "    # Primeira camada LSTM: 50 unidades, retorna toda a sequência\n",
        "    tf.keras.layers.LSTM(50, return_sequences=True, input_shape=(sequence_length, num_features)),\n",
        "\n",
        "    # Segunda camada LSTM: 50 unidades, também retorna a sequência\n",
        "    tf.keras.layers.LSTM(50, return_sequences=True),\n",
        "\n",
        "    # Terceira camada LSTM: 50 unidades, sem retorno de sequência (resumo final)\n",
        "    tf.keras.layers.LSTM(50),\n",
        "\n",
        "    # Camada totalmente conectada (densa) com 1 saída\n",
        "    tf.keras.layers.Dense(1)\n",
        "])\n",
        "\n",
        "# --------------------------------------\n",
        "# 5. COMPILAÇÃO E TREINAMENTO\n",
        "# --------------------------------------\n",
        "history = compile_and_fit(lstm_model, wide_window)\n",
        "\n",
        "# --------------------------------------\n",
        "# 6. AVALIAÇÃO DO MODELO\n",
        "# --------------------------------------\n",
        "IPython.display.clear_output()\n",
        "\n",
        "val_performance['LSTM_8x1'] = lstm_model.evaluate(wide_window.val)\n",
        "performance['LSTM_8x1'] = lstm_model.evaluate(wide_window.test, verbose=0)\n"
      ]
    },
    {
      "cell_type": "markdown",
      "metadata": {},
      "source": [
        "# Sentimento"
      ]
    },
    {
      "cell_type": "code",
      "execution_count": 21,
      "metadata": {},
      "outputs": [
        {
          "data": {
            "text/html": [
              "<div>\n",
              "<style scoped>\n",
              "    .dataframe tbody tr th:only-of-type {\n",
              "        vertical-align: middle;\n",
              "    }\n",
              "\n",
              "    .dataframe tbody tr th {\n",
              "        vertical-align: top;\n",
              "    }\n",
              "\n",
              "    .dataframe thead th {\n",
              "        text-align: right;\n",
              "    }\n",
              "</style>\n",
              "<table border=\"1\" class=\"dataframe\">\n",
              "  <thead>\n",
              "    <tr style=\"text-align: right;\">\n",
              "      <th></th>\n",
              "      <th>Close</th>\n",
              "      <th>St</th>\n",
              "      <th>sigma_t</th>\n",
              "      <th>St_lag1</th>\n",
              "      <th>St_lag2</th>\n",
              "      <th>St_lag3</th>\n",
              "      <th>sigma_t_lag1</th>\n",
              "      <th>sigma_t_lag2</th>\n",
              "      <th>sigma_t_lag3</th>\n",
              "      <th>MA5_St</th>\n",
              "      <th>MA20_St</th>\n",
              "      <th>delta_St</th>\n",
              "      <th>rolling_std_5_St</th>\n",
              "      <th>rolling_std_10_St</th>\n",
              "    </tr>\n",
              "  </thead>\n",
              "  <tbody>\n",
              "    <tr>\n",
              "      <th>2015-03-03</th>\n",
              "      <td>49.830002</td>\n",
              "      <td>0.001465</td>\n",
              "      <td>0.000000</td>\n",
              "      <td>0.269798</td>\n",
              "      <td>0.015129</td>\n",
              "      <td>-0.050294</td>\n",
              "      <td>0.332538</td>\n",
              "      <td>0.005490</td>\n",
              "      <td>0.622159</td>\n",
              "      <td>0.098607</td>\n",
              "      <td>0.126404</td>\n",
              "      <td>-0.027797</td>\n",
              "      <td>0.152439</td>\n",
              "      <td>0.144164</td>\n",
              "    </tr>\n",
              "    <tr>\n",
              "      <th>2015-03-06</th>\n",
              "      <td>48.549999</td>\n",
              "      <td>0.207463</td>\n",
              "      <td>0.285855</td>\n",
              "      <td>0.001465</td>\n",
              "      <td>0.269798</td>\n",
              "      <td>0.015129</td>\n",
              "      <td>0.000000</td>\n",
              "      <td>0.332538</td>\n",
              "      <td>0.005490</td>\n",
              "      <td>0.088713</td>\n",
              "      <td>0.136966</td>\n",
              "      <td>-0.048253</td>\n",
              "      <td>0.140751</td>\n",
              "      <td>0.139932</td>\n",
              "    </tr>\n",
              "    <tr>\n",
              "      <th>2015-03-09</th>\n",
              "      <td>47.750000</td>\n",
              "      <td>0.113316</td>\n",
              "      <td>0.165648</td>\n",
              "      <td>0.136126</td>\n",
              "      <td>0.082913</td>\n",
              "      <td>0.159576</td>\n",
              "      <td>0.195549</td>\n",
              "      <td>0.096149</td>\n",
              "      <td>0.206131</td>\n",
              "      <td>0.117479</td>\n",
              "      <td>0.121287</td>\n",
              "      <td>-0.003808</td>\n",
              "      <td>0.107397</td>\n",
              "      <td>0.137977</td>\n",
              "    </tr>\n",
              "    <tr>\n",
              "      <th>2015-03-10</th>\n",
              "      <td>46.950001</td>\n",
              "      <td>-0.009464</td>\n",
              "      <td>0.000000</td>\n",
              "      <td>0.139034</td>\n",
              "      <td>0.161105</td>\n",
              "      <td>0.039810</td>\n",
              "      <td>0.196152</td>\n",
              "      <td>0.298201</td>\n",
              "      <td>0.002591</td>\n",
              "      <td>0.107590</td>\n",
              "      <td>0.107927</td>\n",
              "      <td>-0.000337</td>\n",
              "      <td>0.089614</td>\n",
              "      <td>0.117981</td>\n",
              "    </tr>\n",
              "    <tr>\n",
              "      <th>2015-03-11</th>\n",
              "      <td>47.520000</td>\n",
              "      <td>0.039956</td>\n",
              "      <td>0.035523</td>\n",
              "      <td>-0.009464</td>\n",
              "      <td>0.139034</td>\n",
              "      <td>0.161105</td>\n",
              "      <td>0.000000</td>\n",
              "      <td>0.196152</td>\n",
              "      <td>0.298201</td>\n",
              "      <td>0.074088</td>\n",
              "      <td>0.151912</td>\n",
              "      <td>-0.077824</td>\n",
              "      <td>0.072648</td>\n",
              "      <td>0.105877</td>\n",
              "    </tr>\n",
              "    <tr>\n",
              "      <th>...</th>\n",
              "      <td>...</td>\n",
              "      <td>...</td>\n",
              "      <td>...</td>\n",
              "      <td>...</td>\n",
              "      <td>...</td>\n",
              "      <td>...</td>\n",
              "      <td>...</td>\n",
              "      <td>...</td>\n",
              "      <td>...</td>\n",
              "      <td>...</td>\n",
              "      <td>...</td>\n",
              "      <td>...</td>\n",
              "      <td>...</td>\n",
              "      <td>...</td>\n",
              "    </tr>\n",
              "    <tr>\n",
              "      <th>2025-04-28</th>\n",
              "      <td>131.649994</td>\n",
              "      <td>0.191652</td>\n",
              "      <td>0.191902</td>\n",
              "      <td>0.251639</td>\n",
              "      <td>0.060298</td>\n",
              "      <td>0.176110</td>\n",
              "      <td>0.157116</td>\n",
              "      <td>0.328417</td>\n",
              "      <td>0.352912</td>\n",
              "      <td>0.163102</td>\n",
              "      <td>0.172627</td>\n",
              "      <td>-0.009526</td>\n",
              "      <td>0.225441</td>\n",
              "      <td>0.163153</td>\n",
              "    </tr>\n",
              "    <tr>\n",
              "      <th>2025-04-29</th>\n",
              "      <td>131.860001</td>\n",
              "      <td>0.030121</td>\n",
              "      <td>0.007648</td>\n",
              "      <td>0.098114</td>\n",
              "      <td>0.555685</td>\n",
              "      <td>-0.078845</td>\n",
              "      <td>0.325042</td>\n",
              "      <td>0.029852</td>\n",
              "      <td>0.220813</td>\n",
              "      <td>0.176630</td>\n",
              "      <td>0.172204</td>\n",
              "      <td>0.004426</td>\n",
              "      <td>0.248431</td>\n",
              "      <td>0.183587</td>\n",
              "    </tr>\n",
              "    <tr>\n",
              "      <th>2025-04-30</th>\n",
              "      <td>131.630005</td>\n",
              "      <td>0.084763</td>\n",
              "      <td>0.143383</td>\n",
              "      <td>0.030121</td>\n",
              "      <td>0.098114</td>\n",
              "      <td>0.555685</td>\n",
              "      <td>0.007648</td>\n",
              "      <td>0.325042</td>\n",
              "      <td>0.029852</td>\n",
              "      <td>0.137968</td>\n",
              "      <td>0.166475</td>\n",
              "      <td>-0.028508</td>\n",
              "      <td>0.243693</td>\n",
              "      <td>0.182333</td>\n",
              "    </tr>\n",
              "    <tr>\n",
              "      <th>2025-05-02</th>\n",
              "      <td>131.850006</td>\n",
              "      <td>0.064631</td>\n",
              "      <td>0.121083</td>\n",
              "      <td>0.091034</td>\n",
              "      <td>0.057442</td>\n",
              "      <td>0.064117</td>\n",
              "      <td>0.180627</td>\n",
              "      <td>0.075516</td>\n",
              "      <td>0.166345</td>\n",
              "      <td>0.120825</td>\n",
              "      <td>0.167179</td>\n",
              "      <td>-0.046354</td>\n",
              "      <td>0.125099</td>\n",
              "      <td>0.184275</td>\n",
              "    </tr>\n",
              "    <tr>\n",
              "      <th>2025-05-05</th>\n",
              "      <td>130.419998</td>\n",
              "      <td>0.126331</td>\n",
              "      <td>0.092586</td>\n",
              "      <td>0.130346</td>\n",
              "      <td>0.153739</td>\n",
              "      <td>0.071342</td>\n",
              "      <td>0.094992</td>\n",
              "      <td>0.164479</td>\n",
              "      <td>0.128516</td>\n",
              "      <td>0.110497</td>\n",
              "      <td>0.157018</td>\n",
              "      <td>-0.046521</td>\n",
              "      <td>0.127580</td>\n",
              "      <td>0.188783</td>\n",
              "    </tr>\n",
              "  </tbody>\n",
              "</table>\n",
              "<p>2382 rows × 14 columns</p>\n",
              "</div>"
            ],
            "text/plain": [
              "                 Close        St   sigma_t   St_lag1   St_lag2   St_lag3  \\\n",
              "2015-03-03   49.830002  0.001465  0.000000  0.269798  0.015129 -0.050294   \n",
              "2015-03-06   48.549999  0.207463  0.285855  0.001465  0.269798  0.015129   \n",
              "2015-03-09   47.750000  0.113316  0.165648  0.136126  0.082913  0.159576   \n",
              "2015-03-10   46.950001 -0.009464  0.000000  0.139034  0.161105  0.039810   \n",
              "2015-03-11   47.520000  0.039956  0.035523 -0.009464  0.139034  0.161105   \n",
              "...                ...       ...       ...       ...       ...       ...   \n",
              "2025-04-28  131.649994  0.191652  0.191902  0.251639  0.060298  0.176110   \n",
              "2025-04-29  131.860001  0.030121  0.007648  0.098114  0.555685 -0.078845   \n",
              "2025-04-30  131.630005  0.084763  0.143383  0.030121  0.098114  0.555685   \n",
              "2025-05-02  131.850006  0.064631  0.121083  0.091034  0.057442  0.064117   \n",
              "2025-05-05  130.419998  0.126331  0.092586  0.130346  0.153739  0.071342   \n",
              "\n",
              "            sigma_t_lag1  sigma_t_lag2  sigma_t_lag3    MA5_St   MA20_St  \\\n",
              "2015-03-03      0.332538      0.005490      0.622159  0.098607  0.126404   \n",
              "2015-03-06      0.000000      0.332538      0.005490  0.088713  0.136966   \n",
              "2015-03-09      0.195549      0.096149      0.206131  0.117479  0.121287   \n",
              "2015-03-10      0.196152      0.298201      0.002591  0.107590  0.107927   \n",
              "2015-03-11      0.000000      0.196152      0.298201  0.074088  0.151912   \n",
              "...                  ...           ...           ...       ...       ...   \n",
              "2025-04-28      0.157116      0.328417      0.352912  0.163102  0.172627   \n",
              "2025-04-29      0.325042      0.029852      0.220813  0.176630  0.172204   \n",
              "2025-04-30      0.007648      0.325042      0.029852  0.137968  0.166475   \n",
              "2025-05-02      0.180627      0.075516      0.166345  0.120825  0.167179   \n",
              "2025-05-05      0.094992      0.164479      0.128516  0.110497  0.157018   \n",
              "\n",
              "            delta_St  rolling_std_5_St  rolling_std_10_St  \n",
              "2015-03-03 -0.027797          0.152439           0.144164  \n",
              "2015-03-06 -0.048253          0.140751           0.139932  \n",
              "2015-03-09 -0.003808          0.107397           0.137977  \n",
              "2015-03-10 -0.000337          0.089614           0.117981  \n",
              "2015-03-11 -0.077824          0.072648           0.105877  \n",
              "...              ...               ...                ...  \n",
              "2025-04-28 -0.009526          0.225441           0.163153  \n",
              "2025-04-29  0.004426          0.248431           0.183587  \n",
              "2025-04-30 -0.028508          0.243693           0.182333  \n",
              "2025-05-02 -0.046354          0.125099           0.184275  \n",
              "2025-05-05 -0.046521          0.127580           0.188783  \n",
              "\n",
              "[2382 rows x 14 columns]"
            ]
          },
          "execution_count": 21,
          "metadata": {},
          "output_type": "execute_result"
        }
      ],
      "source": [
        "caminho_arquivo = \"/Users/joao altarugio/Desktop/IC - Levada/DataGeral/lagged_data_02.pkl\"\n",
        "with open(caminho_arquivo, \"rb\") as f:\n",
        "   df = pickle.load(f)\n",
        "df"
      ]
    },
    {
      "cell_type": "code",
      "execution_count": 22,
      "metadata": {},
      "outputs": [],
      "source": [
        "from sklearn.preprocessing import RobustScaler\n",
        "\n",
        "column_indices = {name: i for i, name in enumerate(df.columns)}\n",
        "\n",
        "n = len(df)\n",
        "train_df = df[0:int(n*0.7)]\n",
        "val_df = df[int(n*0.7):int(n*0.9)]\n",
        "test_df = df[int(n*0.9):]\n",
        "\n",
        "num_features = df.shape[1]\n",
        "\n",
        "scaler = RobustScaler()\n",
        "train_df = scaler.fit_transform(train_df)\n",
        "val_df = scaler.fit_transform(val_df)\n",
        "test_df = scaler.fit_transform(test_df)"
      ]
    },
    {
      "cell_type": "code",
      "execution_count": 23,
      "metadata": {},
      "outputs": [
        {
          "name": "stdout",
          "output_type": "stream",
          "text": [
            "Index(['Close', 'St', 'sigma_t', 'St_lag1', 'St_lag2', 'St_lag3',\n",
            "       'sigma_t_lag1', 'sigma_t_lag2', 'sigma_t_lag3', 'MA5_St', 'MA20_St',\n",
            "       'delta_St', 'rolling_std_5_St', 'rolling_std_10_St'],\n",
            "      dtype='object')\n"
          ]
        }
      ],
      "source": [
        "Colunas = print(df.columns)\n",
        "train_df = pd.DataFrame(train_df, columns=['Close', 'St', 'sigma_t', 'St_lag1', 'St_lag2', 'St_lag3',\n",
        "       'sigma_t_lag1', 'sigma_t_lag2', 'sigma_t_lag3', 'MA5_St', 'MA20_St',\n",
        "       'delta_St', 'rolling_std_5_St', 'rolling_std_10_St'])\n",
        "val_df = pd.DataFrame(val_df, columns=['Close', 'St', 'sigma_t', 'St_lag1', 'St_lag2', 'St_lag3',\n",
        "       'sigma_t_lag1', 'sigma_t_lag2', 'sigma_t_lag3', 'MA5_St', 'MA20_St',\n",
        "       'delta_St', 'rolling_std_5_St', 'rolling_std_10_St'])\n",
        "test_df = pd.DataFrame(test_df, columns=['Close', 'St', 'sigma_t', 'St_lag1', 'St_lag2', 'St_lag3',\n",
        "       'sigma_t_lag1', 'sigma_t_lag2', 'sigma_t_lag3', 'MA5_St', 'MA20_St',\n",
        "       'delta_St', 'rolling_std_5_St', 'rolling_std_10_St'])"
      ]
    },
    {
      "cell_type": "code",
      "execution_count": 24,
      "metadata": {},
      "outputs": [],
      "source": [
        "@property\n",
        "def train(self):\n",
        "  return self.make_dataset(self.train_df)\n",
        "\n",
        "@property\n",
        "def val(self):\n",
        "  return self.make_dataset(self.val_df)\n",
        "\n",
        "@property\n",
        "def test(self):\n",
        "  return self.make_dataset(self.test_df)\n",
        "\n",
        "@property\n",
        "def example(self):\n",
        "  \"\"\"Get and cache an example batch of `inputs, labels` for plotting.\"\"\"\n",
        "  result = getattr(self, '_example', None)\n",
        "  if result is None:\n",
        "    # No example batch was found, so get one from the `.train` dataset\n",
        "    result = next(iter(self.train))\n",
        "    # And cache it for next time\n",
        "    self._example = result\n",
        "  return result\n",
        "\n",
        "WindowGenerator.train = train\n",
        "WindowGenerator.val = val\n",
        "WindowGenerator.test = test\n",
        "WindowGenerator.example = example"
      ]
    },
    {
      "cell_type": "markdown",
      "metadata": {},
      "source": [
        "# LSTM + Sentimento"
      ]
    },
    {
      "cell_type": "code",
      "execution_count": 25,
      "metadata": {},
      "outputs": [
        {
          "name": "stdout",
          "output_type": "stream",
          "text": [
            "\u001b[1m16/16\u001b[0m \u001b[32m━━━━━━━━━━━━━━━━━━━━\u001b[0m\u001b[37m\u001b[0m \u001b[1m0s\u001b[0m 7ms/step - loss: 0.0188 - mae: 0.1085\n"
          ]
        }
      ],
      "source": [
        "import tensorflow as tf\n",
        "import IPython.display\n",
        "\n",
        "# --------------------------------------\n",
        "# 1. GERADOR DE JANELAS MULTIVARIADO\n",
        "# --------------------------------------\n",
        "wide_window = WindowGenerator(\n",
        "    input_width=8,\n",
        "    label_width=1,\n",
        "    shift=1,\n",
        "    label_columns=['Close']\n",
        ")\n",
        "\n",
        "\n",
        "# --------------------------------------\n",
        "# 3. PARÂMETROS DE ENTRADA DO MODELO\n",
        "# --------------------------------------\n",
        "sequence_length = wide_window.example[0].shape[1]   # Ex: 8\n",
        "num_features = wide_window.example[0].shape[2]      # Ex: 5\n",
        "\n",
        "# --------------------------------------\n",
        "# 4. DEFINIÇÃO DA ARQUITETURA LSTM\n",
        "# --------------------------------------\n",
        "lstm_model = tf.keras.Sequential([\n",
        "    # Primeira camada LSTM: 50 unidades, retorna toda a sequência\n",
        "    tf.keras.layers.LSTM(50, return_sequences=True, input_shape=(sequence_length, num_features)),\n",
        "\n",
        "    # Segunda camada LSTM: 50 unidades, também retorna a sequência\n",
        "    tf.keras.layers.LSTM(50, return_sequences=True),\n",
        "\n",
        "    # Terceira camada LSTM: 50 unidades, sem retorno de sequência (resumo final)\n",
        "    tf.keras.layers.LSTM(50),\n",
        "\n",
        "    # Camada totalmente conectada (densa) com 1 saída\n",
        "    tf.keras.layers.Dense(1)\n",
        "])\n",
        "\n",
        "# --------------------------------------\n",
        "# 5. COMPILAÇÃO E TREINAMENTO\n",
        "# --------------------------------------\n",
        "history = compile_and_fit(lstm_model, wide_window)\n",
        "\n",
        "# --------------------------------------\n",
        "# 6. AVALIAÇÃO DO MODELO\n",
        "# --------------------------------------\n",
        "IPython.display.clear_output()\n",
        "\n",
        "val_performance['LSTM + FinBert_8x1'] = lstm_model.evaluate(wide_window.val)\n",
        "performance['LSTM + FinBert_8x1'] = lstm_model.evaluate(wide_window.test, verbose=0)\n"
      ]
    },
    {
      "cell_type": "markdown",
      "metadata": {
        "id": "5mNcWl0-aoLb"
      },
      "source": [
        "#Desempenho\n",
        "Com esse conjunto de dados, normalmente cada um dos modelos se sai um pouco melhor do que o anterior:"
      ]
    },
    {
      "cell_type": "code",
      "execution_count": 26,
      "metadata": {
        "colab": {
          "base_uri": "https://localhost:8080/"
        },
        "id": "K_mdmd_z27Py",
        "outputId": "1f8b0252-e47e-4b47-c207-6b0f474c2f45"
      },
      "outputs": [
        {
          "name": "stdout",
          "output_type": "stream",
          "text": [
            "dict_values([[0.05209001153707504, 0.1787525862455368], [0.04375707358121872, 0.16215449571609497]])\n",
            "dict_values([[0.02245023287832737, 0.12128503620624542], [0.018826575949788094, 0.10844402015209198]])\n"
          ]
        }
      ],
      "source": [
        "print(performance.values())\n",
        "print(val_performance.values())"
      ]
    },
    {
      "cell_type": "code",
      "execution_count": 27,
      "metadata": {
        "colab": {
          "base_uri": "https://localhost:8080/"
        },
        "id": "DbUIT8-zi5zj",
        "outputId": "55728cf9-cedc-43c0-b610-f18d0ac86105"
      },
      "outputs": [
        {
          "name": "stdout",
          "output_type": "stream",
          "text": [
            "['loss', 'compile_metrics']\n"
          ]
        }
      ],
      "source": [
        "print(lstm_model.metrics_names)"
      ]
    },
    {
      "cell_type": "code",
      "execution_count": 28,
      "metadata": {
        "colab": {
          "base_uri": "https://localhost:8080/"
        },
        "id": "yOXO4C_b2--c",
        "outputId": "50053598-0efc-4abf-c24a-3f59cdb39071"
      },
      "outputs": [
        {
          "name": "stdout",
          "output_type": "stream",
          "text": [
            "2 [0.05209001153707504, 0.1787525862455368]\n",
            "2 [0.04375707358121872, 0.16215449571609497]\n"
          ]
        }
      ],
      "source": [
        "for v in performance.values():\n",
        "    print(len(v), v)"
      ]
    },
    {
      "cell_type": "code",
      "execution_count": 29,
      "metadata": {
        "colab": {
          "base_uri": "https://localhost:8080/",
          "height": 507
        },
        "id": "d01WkafzgSOa",
        "outputId": "1bdf61bb-6de3-4e1b-e71a-3ca3a81dd3a4"
      },
      "outputs": [
        {
          "data": {
            "image/png": "[encoded data removed]",
            "text/plain": [
              "<Figure size 800x500 with 1 Axes>"
            ]
          },
          "metadata": {},
          "output_type": "display_data"
        }
      ],
      "source": [
        "import numpy as np\n",
        "import matplotlib.pyplot as plt\n",
        "\n",
        "x = np.arange(len(performance))\n",
        "width = 0.3\n",
        "metric_name = 'mean_absolute_error'\n",
        "\n",
        "# Pega o índice correto da métrica\n",
        "metric_index = lstm_model.metrics_names.index(\"compile_metrics\")\n",
        "\n",
        "# Extrai os valores da métrica\n",
        "val_mae = [v[metric_index] for v in val_performance.values()]\n",
        "test_mae = [v[metric_index] for v in performance.values()]\n",
        "\n",
        "# Cria o gráfico de barras\n",
        "plt.figure(figsize=(8, 5))\n",
        "plt.ylabel(metric_name)\n",
        "bars1 = plt.bar(x - 0.17, val_mae, width, label='Validation')\n",
        "bars2 = plt.bar(x + 0.17, test_mae, width, label='Test')\n",
        "\n",
        "# Adiciona os valores no topo das barras\n",
        "for bar in bars1:\n",
        "    height = bar.get_height()\n",
        "    plt.text(bar.get_x() + bar.get_width() / 2, height,\n",
        "             f'{height:.3f}', ha='center', va='bottom')\n",
        "\n",
        "for bar in bars2:\n",
        "    height = bar.get_height()\n",
        "    plt.text(bar.get_x() + bar.get_width() / 2, height,\n",
        "             f'{height:.3f}', ha='center', va='bottom')\n",
        "\n",
        "plt.xticks(ticks=x, labels=performance.keys(), rotation=45)\n",
        "plt.legend()\n",
        "plt.tight_layout()\n",
        "plt.show()\n"
      ]
    },
    {
      "cell_type": "code",
      "execution_count": 30,
      "metadata": {
        "colab": {
          "base_uri": "https://localhost:8080/"
        },
        "id": "znUBvNMFa5l_",
        "outputId": "af5dc38e-db8e-4397-f085-03c27986d4a9"
      },
      "outputs": [
        {
          "name": "stdout",
          "output_type": "stream",
          "text": [
            "LSTM_8x1    : 0.1788\n",
            "LSTM + FinBert_8x1: 0.1622\n"
          ]
        }
      ],
      "source": [
        "for name, value in performance.items():\n",
        "  print(f'{name:12s}: {value[1]:0.4f}')"
      ]
    }
  ],
  "metadata": {
    "colab": {
      "collapsed_sections": [
        "1Lj_y1x4eWMK"
      ],
      "provenance": []
    },
    "kernelspec": {
      "display_name": "Python 3",
      "name": "python3"
    },
    "language_info": {
      "codemirror_mode": {
        "name": "ipython",
        "version": 3
      },
      "file_extension": ".py",
      "mimetype": "text/x-python",
      "name": "python",
      "nbconvert_exporter": "python",
      "pygments_lexer": "ipython3",
      "version": "3.12.4"
    }
  },
  "nbformat": 4,
  "nbformat_minor": 0
}
